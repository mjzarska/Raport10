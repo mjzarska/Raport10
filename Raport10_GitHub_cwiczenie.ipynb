{
  "nbformat": 4,
  "nbformat_minor": 0,
  "metadata": {
    "colab": {
      "provenance": [],
      "authorship_tag": "ABX9TyM1MaivVzXNn3wZvTd1D9Vp",
      "include_colab_link": true
    },
    "kernelspec": {
      "name": "python3",
      "display_name": "Python 3"
    },
    "language_info": {
      "name": "python"
    }
  },
  "cells": [
    {
      "cell_type": "markdown",
      "metadata": {
        "id": "view-in-github",
        "colab_type": "text"
      },
      "source": [
        "<a href=\"https://colab.research.google.com/github/mjzarska/Raport10/blob/main/Raport10_GitHub_cwiczenie.ipynb\" target=\"_parent\"><img src=\"https://colab.research.google.com/assets/colab-badge.svg\" alt=\"Open In Colab\"/></a>"
      ]
    },
    {
      "cell_type": "markdown",
      "source": [
        "# Raport 8"
      ],
      "metadata": {
        "id": "3baWc0KBaQoX"
      }
    },
    {
      "cell_type": "code",
      "source": [
        "!wget https://github.com/mjzarska/Raport10/blob/main/Raport10_GitHub_cwiczenie.ipynb -O google.csv"
      ],
      "metadata": {
        "colab": {
          "base_uri": "https://localhost:8080/"
        },
        "id": "HOcQtQ_4aTci",
        "outputId": "146f0095-ccbe-41ea-e326-4d673cd96436"
      },
      "execution_count": 1,
      "outputs": [
        {
          "output_type": "stream",
          "name": "stdout",
          "text": [
            "--2025-05-13 11:41:27--  https://github.com/mjzarska/Raport10/blob/main/Raport10_GitHub_cwiczenie.ipynb\n",
            "Resolving github.com (github.com)... 140.82.113.4\n",
            "Connecting to github.com (github.com)|140.82.113.4|:443... connected.\n",
            "HTTP request sent, awaiting response... 200 OK\n",
            "Length: unspecified [text/html]\n",
            "Saving to: ‘google_wget.csv’\n",
            "\n",
            "google_wget.csv         [ <=>                ] 170.57K  --.-KB/s    in 0.05s   \n",
            "\n",
            "2025-05-13 11:41:28 (3.36 MB/s) - ‘google_wget.csv’ saved [174662]\n",
            "\n"
          ]
        }
      ]
    },
    {
      "cell_type": "code",
      "source": [
        "!wget https://raw.githubusercontent.com/mjzarska/Raport10/refs/heads/main/AppleStore.csv -O apple.csv"
      ],
      "metadata": {
        "colab": {
          "base_uri": "https://localhost:8080/"
        },
        "id": "3hoWkDpmfmFa",
        "outputId": "dedc44f4-5afb-4606-96d8-6ed756eaf2a0"
      },
      "execution_count": 2,
      "outputs": [
        {
          "output_type": "stream",
          "name": "stdout",
          "text": [
            "--2025-05-13 11:54:25--  https://raw.githubusercontent.com/mjzarska/Raport10/refs/heads/main/AppleStore.csv\n",
            "Resolving raw.githubusercontent.com (raw.githubusercontent.com)... 185.199.109.133, 185.199.111.133, 185.199.110.133, ...\n",
            "Connecting to raw.githubusercontent.com (raw.githubusercontent.com)|185.199.109.133|:443... connected.\n",
            "HTTP request sent, awaiting response... 200 OK\n",
            "Length: 725761 (709K) [text/plain]\n",
            "Saving to: ‘apple_wget.csv’\n",
            "\n",
            "\rapple_wget.csv        0%[                    ]       0  --.-KB/s               \rapple_wget.csv      100%[===================>] 708.75K  --.-KB/s    in 0.05s   \n",
            "\n",
            "2025-05-13 11:54:25 (12.9 MB/s) - ‘apple_wget.csv’ saved [725761/725761]\n",
            "\n"
          ]
        }
      ]
    }
  ]
}